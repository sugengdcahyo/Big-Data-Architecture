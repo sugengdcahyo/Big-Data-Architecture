{
 "cells": [
  {
   "cell_type": "code",
   "execution_count": 6,
   "id": "146afdc4-0ea9-4316-a69b-51b24ca04f68",
   "metadata": {},
   "outputs": [
    {
     "name": "stderr",
     "output_type": "stream",
     "text": [
      "24/03/29 04:57:57 WARN GarbageCollectionMetrics: To enable non-built-in garbage collector(s) List(G1 Concurrent GC), users should configure it(them) to spark.eventLog.gcMetrics.youngGenerationGarbageCollectors or spark.eventLog.gcMetrics.oldGenerationGarbageCollectors\n"
     ]
    }
   ],
   "source": [
    "from pyspark.sql import SparkSession"
   ]
  },
  {
   "cell_type": "code",
   "execution_count": 7,
   "id": "59340568-04cd-4b85-beaf-6bc0eef8ef1c",
   "metadata": {},
   "outputs": [],
   "source": [
    "import os "
   ]
  },
  {
   "cell_type": "code",
   "execution_count": 10,
   "id": "5142e6b7-dce4-4245-a5d4-2daf48a13f4e",
   "metadata": {},
   "outputs": [
    {
     "name": "stderr",
     "output_type": "stream",
     "text": [
      "24/03/29 04:58:31 WARN SparkSession: Using an existing Spark session; only runtime SQL configurations will take effect.\n"
     ]
    }
   ],
   "source": [
    "# Inisialisasi SparkSession dengan konfigurasi untuk mengakses Hadoop HDFS\n",
    "spark = SparkSession.builder \\\n",
    "    .appName(\"Access HDFS with PySpark\") \\\n",
    "    .config(\"spark.hadoop.fs.defaultFS\", \"hdfs://192.168.10.197:9000\") \\\n",
    "    .config(\"spark.hadoop.conf\", \"/home/hadoop/hadoop-3.4.0/conf\") \\\n",
    "    .getOrCreate()"
   ]
  },
  {
   "cell_type": "code",
   "execution_count": 12,
   "id": "fa85a8e3-b859-40c8-9283-9263bdc8bbf2",
   "metadata": {},
   "outputs": [
    {
     "name": "stdout",
     "output_type": "stream",
     "text": [
      "hdfs://192.168.10.197:9000/example\n",
      "hdfs://192.168.10.197:9000/glass-identification.xlsx\n",
      "hdfs://192.168.10.197:9000/images\n",
      "hdfs://192.168.10.197:9000/sheet\n"
     ]
    }
   ],
   "source": [
    "# Inisialisasi SparkSession\n",
    "spark = SparkSession.builder \\\n",
    "    .appName(\"List HDFS Directory\") \\\n",
    "    .config(\"spark.master\", \"local\") \\\n",
    "    .getOrCreate()\n",
    "\n",
    "# Tentukan path HDFS tempat direktori berada\n",
    "hdfs_path = \"hdfs://192.168.10.197:9000/\"\n",
    "\n",
    "# Gunakan SparkContext untuk mengakses HDFS\n",
    "sc = spark.sparkContext\n",
    "\n",
    "# List direktori menggunakan hadoop FileSystem API\n",
    "uri = sc._gateway.jvm.java.net.URI\n",
    "fs = sc._gateway.jvm.org.apache.hadoop.fs.FileSystem\n",
    "conf = sc._gateway.jvm.org.apache.hadoop.conf.Configuration\n",
    "path = sc._gateway.jvm.org.apache.hadoop.fs.Path\n",
    "\n",
    "hdfs = fs.get(uri(hdfs_path), conf())\n",
    "\n",
    "# Mencantumkan file dan direktori di dalam direktori HDFS yang ditentukan\n",
    "status = hdfs.listStatus(path(hdfs_path))\n",
    "\n",
    "# Cetak isi dari direktori\n",
    "for file_status in status:\n",
    "    print(file_status.getPath())\n",
    "\n",
    "# Tutup SparkSession\n",
    "spark.stop()"
   ]
  },
  {
   "cell_type": "code",
   "execution_count": null,
   "id": "805b5cf3-990e-42f0-8fcb-72390a7433e6",
   "metadata": {},
   "outputs": [],
   "source": []
  }
 ],
 "metadata": {
  "kernelspec": {
   "display_name": "Python 3 (ipykernel)",
   "language": "python",
   "name": "python3"
  },
  "language_info": {
   "codemirror_mode": {
    "name": "ipython",
    "version": 3
   },
   "file_extension": ".py",
   "mimetype": "text/x-python",
   "name": "python",
   "nbconvert_exporter": "python",
   "pygments_lexer": "ipython3",
   "version": "3.10.13"
  }
 },
 "nbformat": 4,
 "nbformat_minor": 5
}
