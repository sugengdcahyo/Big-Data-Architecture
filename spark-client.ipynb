{
 "cells": [
  {
   "cell_type": "code",
   "execution_count": 1,
   "id": "146afdc4-0ea9-4316-a69b-51b24ca04f68",
   "metadata": {},
   "outputs": [],
   "source": [
    "from pyspark.sql import SparkSession\n",
    "import os "
   ]
  },
  {
   "cell_type": "code",
   "execution_count": null,
   "id": "59340568-04cd-4b85-beaf-6bc0eef8ef1c",
   "metadata": {},
   "outputs": [],
   "source": []
  },
  {
   "cell_type": "code",
   "execution_count": 2,
   "id": "5142e6b7-dce4-4245-a5d4-2daf48a13f4e",
   "metadata": {},
   "outputs": [
    {
     "name": "stderr",
     "output_type": "stream",
     "text": [
      "Setting default log level to \"WARN\".\n",
      "To adjust logging level use sc.setLogLevel(newLevel). For SparkR, use setLogLevel(newLevel).\n",
      "24/03/31 23:34:03 WARN NativeCodeLoader: Unable to load native-hadoop library for your platform... using builtin-java classes where applicable\n"
     ]
    }
   ],
   "source": [
    "# Inisialisasi SparkSession dengan konfigurasi untuk mengakses Hadoop HDFS\n",
    "spark = SparkSession.builder \\\n",
    "    .appName(\"Access HDFS with PySpark\") \\\n",
    "    .config(\"spark.hadoop.fs.defaultFS\", \"hdfs://46.250.229.129:9000\") \\\n",
    "    .config(\"spark.hadoop.conf\", \"/usr/local/hadoop/conf\") \\\n",
    "    .getOrCreate()"
   ]
  },
  {
   "cell_type": "code",
   "execution_count": 3,
   "id": "fa85a8e3-b859-40c8-9283-9263bdc8bbf2",
   "metadata": {},
   "outputs": [
    {
     "name": "stdout",
     "output_type": "stream",
     "text": [
      "hdfs://46.250.229.129:9000/train.csv\n"
     ]
    }
   ],
   "source": [
    "# Inisialisasi SparkSession\n",
    "# spark = SparkSession.builder \\\n",
    "#     .appName(\"List HDFS Directory\") \\\n",
    "#     .config(\"spark.master\", \"local\") \\\n",
    "#     .getOrCreate()\n",
    "\n",
    "# Tentukan path HDFS tempat direktori berada\n",
    "hdfs_path = \"hdfs://46.250.229.129:9000/train.csv\"\n",
    "\n",
    "# Gunakan SparkContext untuk mengakses HDFS\n",
    "sc = spark.sparkContext\n",
    "\n",
    "# List direktori menggunakan hadoop FileSystem API\n",
    "uri = sc._gateway.jvm.java.net.URI\n",
    "fs = sc._gateway.jvm.org.apache.hadoop.fs.FileSystem\n",
    "conf = sc._gateway.jvm.org.apache.hadoop.conf.Configuration\n",
    "path = sc._gateway.jvm.org.apache.hadoop.fs.Path\n",
    "\n",
    "hdfs = fs.get(uri(hdfs_path), conf())\n",
    "\n",
    "# Mencantumkan file dan direktori di dalam direktori HDFS yang ditentukan\n",
    "status = hdfs.listStatus(path(hdfs_path))\n",
    "\n",
    "# Cetak isi dari direktori\n",
    "for file_status in status:\n",
    "    print(file_status.getPath())\n",
    "\n",
    "# Tutup SparkSession\n",
    "spark.stop()"
   ]
  },
  {
   "cell_type": "code",
   "execution_count": 6,
   "id": "805b5cf3-990e-42f0-8fcb-72390a7433e6",
   "metadata": {},
   "outputs": [
    {
     "name": "stderr",
     "output_type": "stream",
     "text": [
      "                                                                                \r"
     ]
    }
   ],
   "source": [
    "from pyspark.sql import SparkSession\n",
    "import matplotlib.pyplot as plt\n",
    "import io\n",
    "from PIL import Image\n",
    "\n",
    "# Inisialisasi SparkSession\n",
    "spark = SparkSession.builder.appName(\"Visualize Image\").getOrCreate()\n",
    "\n",
    "hdfs_input_path = \"hdfs://46.250.229.129:9000/train.csv\"\n",
    "\n",
    "df = spark.read.csv(hdfs_input_path, header=True)"
   ]
  },
  {
   "cell_type": "code",
   "execution_count": 8,
   "id": "6d4ed50b-e55f-47f6-9a17-10dc141bc5cf",
   "metadata": {},
   "outputs": [
    {
     "data": {
      "text/plain": [
       "{'_sql_ctx': None,\n",
       " '_session': <pyspark.sql.session.SparkSession at 0x115cf0d60>,\n",
       " '_sc': <SparkContext master=local[*] appName=Visualize Image>,\n",
       " '_jdf': JavaObject id=o80,\n",
       " 'is_cached': False,\n",
       " '_schema': StructType([StructField('PassengerId', StringType(), True), StructField('Survived', StringType(), True), StructField('Pclass', StringType(), True), StructField('Name', StringType(), True), StructField('Sex', StringType(), True), StructField('Age', StringType(), True), StructField('SibSp', StringType(), True), StructField('Parch', StringType(), True), StructField('Ticket', StringType(), True), StructField('Fare', StringType(), True), StructField('Cabin', StringType(), True), StructField('Embarked', StringType(), True)]),\n",
       " '_lazy_rdd': None,\n",
       " '_support_repr_html': True}"
      ]
     },
     "execution_count": 8,
     "metadata": {},
     "output_type": "execute_result"
    }
   ],
   "source": [
    "df.__dict__"
   ]
  },
  {
   "cell_type": "code",
   "execution_count": 9,
   "id": "c4fe0f5d-f0f0-4dd4-9972-eaca30d3455e",
   "metadata": {},
   "outputs": [
    {
     "name": "stderr",
     "output_type": "stream",
     "text": [
      "[Stage 3:>                                                          (0 + 1) / 1]\r"
     ]
    },
    {
     "name": "stdout",
     "output_type": "stream",
     "text": [
      "+-----------+--------+------+-------------------------------------------------------+------+----+-----+-----+----------------+-------+-----+--------+\n",
      "|PassengerId|Survived|Pclass|Name                                                   |Sex   |Age |SibSp|Parch|Ticket          |Fare   |Cabin|Embarked|\n",
      "+-----------+--------+------+-------------------------------------------------------+------+----+-----+-----+----------------+-------+-----+--------+\n",
      "|1          |0       |3     |Braund, Mr. Owen Harris                                |male  |22  |1    |0    |A/5 21171       |7.25   |NULL |S       |\n",
      "|2          |1       |1     |Cumings, Mrs. John Bradley (Florence Briggs Thayer)    |female|38  |1    |0    |PC 17599        |71.2833|C85  |C       |\n",
      "|3          |1       |3     |Heikkinen, Miss. Laina                                 |female|26  |0    |0    |STON/O2. 3101282|7.925  |NULL |S       |\n",
      "|4          |1       |1     |Futrelle, Mrs. Jacques Heath (Lily May Peel)           |female|35  |1    |0    |113803          |53.1   |C123 |S       |\n",
      "|5          |0       |3     |Allen, Mr. William Henry                               |male  |35  |0    |0    |373450          |8.05   |NULL |S       |\n",
      "|6          |0       |3     |Moran, Mr. James                                       |male  |NULL|0    |0    |330877          |8.4583 |NULL |Q       |\n",
      "|7          |0       |1     |McCarthy, Mr. Timothy J                                |male  |54  |0    |0    |17463           |51.8625|E46  |S       |\n",
      "|8          |0       |3     |Palsson, Master. Gosta Leonard                         |male  |2   |3    |1    |349909          |21.075 |NULL |S       |\n",
      "|9          |1       |3     |Johnson, Mrs. Oscar W (Elisabeth Vilhelmina Berg)      |female|27  |0    |2    |347742          |11.1333|NULL |S       |\n",
      "|10         |1       |2     |Nasser, Mrs. Nicholas (Adele Achem)                    |female|14  |1    |0    |237736          |30.0708|NULL |C       |\n",
      "|11         |1       |3     |Sandstrom, Miss. Marguerite Rut                        |female|4   |1    |1    |PP 9549         |16.7   |G6   |S       |\n",
      "|12         |1       |1     |Bonnell, Miss. Elizabeth                               |female|58  |0    |0    |113783          |26.55  |C103 |S       |\n",
      "|13         |0       |3     |Saundercock, Mr. William Henry                         |male  |20  |0    |0    |A/5. 2151       |8.05   |NULL |S       |\n",
      "|14         |0       |3     |Andersson, Mr. Anders Johan                            |male  |39  |1    |5    |347082          |31.275 |NULL |S       |\n",
      "|15         |0       |3     |Vestrom, Miss. Hulda Amanda Adolfina                   |female|14  |0    |0    |350406          |7.8542 |NULL |S       |\n",
      "|16         |1       |2     |Hewlett, Mrs. (Mary D Kingcome)                        |female|55  |0    |0    |248706          |16     |NULL |S       |\n",
      "|17         |0       |3     |Rice, Master. Eugene                                   |male  |2   |4    |1    |382652          |29.125 |NULL |Q       |\n",
      "|18         |1       |2     |Williams, Mr. Charles Eugene                           |male  |NULL|0    |0    |244373          |13     |NULL |S       |\n",
      "|19         |0       |3     |Vander Planke, Mrs. Julius (Emelia Maria Vandemoortele)|female|31  |1    |0    |345763          |18     |NULL |S       |\n",
      "|20         |1       |3     |Masselmani, Mrs. Fatima                                |female|NULL|0    |0    |2649            |7.225  |NULL |C       |\n",
      "+-----------+--------+------+-------------------------------------------------------+------+----+-----+-----+----------------+-------+-----+--------+\n",
      "only showing top 20 rows\n",
      "\n"
     ]
    },
    {
     "name": "stderr",
     "output_type": "stream",
     "text": [
      "                                                                                \r"
     ]
    }
   ],
   "source": [
    "df.show(truncate=False)\n"
   ]
  },
  {
   "cell_type": "code",
   "execution_count": null,
   "id": "a840aa83-9028-4ed0-8b21-858cc5cc2ce7",
   "metadata": {},
   "outputs": [],
   "source": []
  },
  {
   "cell_type": "code",
   "execution_count": null,
   "id": "8df49d2b-1181-4d18-bd82-9c575b096883",
   "metadata": {},
   "outputs": [],
   "source": []
  },
  {
   "cell_type": "code",
   "execution_count": null,
   "id": "c12074ec-7677-45db-8a3d-4f17eec0a4ba",
   "metadata": {},
   "outputs": [],
   "source": []
  }
 ],
 "metadata": {
  "kernelspec": {
   "display_name": "Python 3 (ipykernel)",
   "language": "python",
   "name": "python3"
  },
  "language_info": {
   "codemirror_mode": {
    "name": "ipython",
    "version": 3
   },
   "file_extension": ".py",
   "mimetype": "text/x-python",
   "name": "python",
   "nbconvert_exporter": "python",
   "pygments_lexer": "ipython3",
   "version": "3.10.13"
  }
 },
 "nbformat": 4,
 "nbformat_minor": 5
}
